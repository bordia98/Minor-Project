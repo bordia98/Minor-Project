{
 "cells": [
  {
   "cell_type": "code",
   "execution_count": 1,
   "metadata": {},
   "outputs": [],
   "source": [
    "# %matplotlib inline"
   ]
  },
  {
   "cell_type": "code",
   "execution_count": 2,
   "metadata": {},
   "outputs": [],
   "source": [
    "import numpy as np\n",
    "import os\n",
    "import sys\n",
    "import tensorflow as tf\n",
    "import time\n",
    "from collections import defaultdict\n",
    "from io import StringIO\n",
    "import matplotlib \n",
    "matplotlib.use('TkAgg')\n",
    "import matplotlib.pyplot as plt\n",
    "from PIL import Image"
   ]
  },
  {
   "cell_type": "code",
   "execution_count": 3,
   "metadata": {},
   "outputs": [],
   "source": [
    "%matplotlib inline"
   ]
  },
  {
   "cell_type": "code",
   "execution_count": 4,
   "metadata": {},
   "outputs": [],
   "source": [
    "from object_detection.utils import label_map_util\n",
    "from object_detection.utils import visualization_utils as vis_util"
   ]
  },
  {
   "cell_type": "code",
   "execution_count": 5,
   "metadata": {},
   "outputs": [],
   "source": [
    "faster_rcnn_sim_model = 'frozen_sim/frozen_inference_graph.pb'\n",
    "PATH_TO_LABELS = 'label_map.pbtxt'\n",
    "\n",
    "NUM_CLASSES = 14"
   ]
  },
  {
   "cell_type": "code",
   "execution_count": 6,
   "metadata": {},
   "outputs": [
    {
     "name": "stdout",
     "output_type": "stream",
     "text": [
      "{1: {'id': 1, 'name': 'Green'}, 2: {'id': 2, 'name': 'Red'}, 3: {'id': 3, 'name': 'Yellow'}, 4: {'id': 4, 'name': 'off'}}\n"
     ]
    }
   ],
   "source": [
    "label_map = label_map_util.load_labelmap(PATH_TO_LABELS)\n",
    "categories = label_map_util.convert_label_map_to_categories(label_map, max_num_classes=NUM_CLASSES, use_display_name=True)\n",
    "category_index = label_map_util.create_category_index(categories)\n",
    "print(category_index)"
   ]
  },
  {
   "cell_type": "code",
   "execution_count": 7,
   "metadata": {},
   "outputs": [],
   "source": [
    "def load_image_into_numpy_array(image):\n",
    "  (im_width, im_height) = image.size\n",
    "  return np.array(image.getdata()).reshape(\n",
    "      (im_height, im_width, 3)).astype(np.uint8)"
   ]
  },
  {
   "cell_type": "code",
   "execution_count": 8,
   "metadata": {},
   "outputs": [],
   "source": [
    "from glob import glob"
   ]
  },
  {
   "cell_type": "code",
   "execution_count": 9,
   "metadata": {},
   "outputs": [],
   "source": [
    "detection_graph = tf.Graph()\n",
    "\n",
    "with detection_graph.as_default():\n",
    "  od_graph_def = tf.GraphDef()\n",
    "  with tf.gfile.GFile(faster_rcnn_sim_model, 'rb') as fid:\n",
    "    serialized_graph = fid.read()\n",
    "    od_graph_def.ParseFromString(serialized_graph)\n",
    "    tf.import_graph_def(od_graph_def, name='')"
   ]
  },
  {
   "cell_type": "code",
   "execution_count": 10,
   "metadata": {},
   "outputs": [
    {
     "name": "stdout",
     "output_type": "stream",
     "text": [
      "test_images_sim/*.jpg\n",
      "Length of test images: 12\n"
     ]
    }
   ],
   "source": [
    "PATH_TO_TEST_IMAGES_DIR = 'test_images_sim'\n",
    "\n",
    "print(os.path.join(PATH_TO_TEST_IMAGES_DIR, '*.jpg'))\n",
    "TEST_IMAGE_PATHS = glob(os.path.join(PATH_TO_TEST_IMAGES_DIR, '*.jpg'))\n",
    "print(\"Length of test images:\", len(TEST_IMAGE_PATHS))\n",
    "\n",
    "# Size, in inches, of the output images.\n",
    "IMAGE_SIZE = (12, 8)"
   ]
  },
  {
   "cell_type": "code",
   "execution_count": 11,
   "metadata": {},
   "outputs": [
    {
     "name": "stdout",
     "output_type": "stream",
     "text": [
      "test_images_sim/left0011.jpg\n",
      "Yellow 0.993022\n",
      "Distance (metres) 0.0\n",
      "Time in milliseconds 4941.600561141968 \n",
      "\n",
      "Yellow 0.98651266\n",
      "Distance (metres) 0.0\n",
      "Time in milliseconds 4941.600561141968 \n",
      "\n",
      "Yellow 0.9838938\n",
      "Distance (metres) 0.0\n",
      "Time in milliseconds 4941.600561141968 \n",
      "\n",
      "test_images_sim/left0588.jpg\n",
      "Yellow 0.98878914\n",
      "Distance (metres) 0.0\n",
      "Time in milliseconds 1773.2172012329102 \n",
      "\n",
      "Yellow 0.98781526\n",
      "Distance (metres) 0.0\n",
      "Time in milliseconds 1773.2172012329102 \n",
      "\n",
      "Yellow 0.9875378\n",
      "Distance (metres) 0.0\n",
      "Time in milliseconds 1773.2172012329102 \n",
      "\n",
      "test_images_sim/left0034.jpg\n",
      "Red 0.99828595\n",
      "Distance (metres) 0.0\n",
      "Time in milliseconds 1667.7374839782715 \n",
      "\n",
      "Red 0.99360526\n",
      "Distance (metres) 0.0\n",
      "Time in milliseconds 1667.7374839782715 \n",
      "\n",
      "test_images_sim/left0560.jpg\n",
      "Green 0.99825126\n",
      "Distance (metres) 0.0\n",
      "Time in milliseconds 1821.6893672943115 \n",
      "\n",
      "Green 0.99729437\n",
      "Distance (metres) 0.0\n",
      "Time in milliseconds 1821.6893672943115 \n",
      "\n",
      "Green 0.99598974\n",
      "Distance (metres) 0.0\n",
      "Time in milliseconds 1821.6893672943115 \n",
      "\n",
      "test_images_sim/left0003.jpg\n",
      "Green 0.9977944\n",
      "Distance (metres) 0.0\n",
      "Time in milliseconds 1702.1679878234863 \n",
      "\n",
      "Green 0.9967225\n",
      "Distance (metres) 0.0\n",
      "Time in milliseconds 1702.1679878234863 \n",
      "\n",
      "Green 0.98898214\n",
      "Distance (metres) 0.0\n",
      "Time in milliseconds 1702.1679878234863 \n",
      "\n",
      "test_images_sim/left0027.jpg\n",
      "Red 0.9992841\n",
      "Distance (metres) 0.0\n",
      "Time in milliseconds 1836.0514640808105 \n",
      "\n",
      "Red 0.99759173\n",
      "Distance (metres) 0.0\n",
      "Time in milliseconds 1836.0514640808105 \n",
      "\n",
      "Red 0.99532855\n",
      "Distance (metres) 0.0\n",
      "Time in milliseconds 1836.0514640808105 \n",
      "\n",
      "test_images_sim/left0040.jpg\n",
      "Red 0.915766\n",
      "Distance (metres) 0.0\n",
      "Time in milliseconds 1826.11083984375 \n",
      "\n",
      "test_images_sim/left0036.jpg\n",
      "Red 0.9980708\n",
      "Distance (metres) 0.0\n",
      "Time in milliseconds 1892.5752639770508 \n",
      "\n",
      "test_images_sim/left0607.jpg\n",
      "Red 0.99903905\n",
      "Distance (metres) 0.0\n",
      "Time in milliseconds 1731.067180633545 \n",
      "\n",
      "Red 0.997486\n",
      "Distance (metres) 0.0\n",
      "Time in milliseconds 1731.067180633545 \n",
      "\n",
      "Red 0.99666685\n",
      "Distance (metres) 0.0\n",
      "Time in milliseconds 1731.067180633545 \n",
      "\n",
      "test_images_sim/left0606.jpg\n",
      "Red 0.9988618\n",
      "Distance (metres) 0.0\n",
      "Time in milliseconds 1754.6842098236084 \n",
      "\n",
      "Red 0.9983859\n",
      "Distance (metres) 0.0\n",
      "Time in milliseconds 1754.6842098236084 \n",
      "\n",
      "Red 0.99568427\n",
      "Distance (metres) 0.0\n",
      "Time in milliseconds 1754.6842098236084 \n",
      "\n",
      "test_images_sim/left0048.jpg\n",
      "test_images_sim/left0545.jpg\n",
      "Green 0.9979341\n",
      "Distance (metres) 0.0\n",
      "Time in milliseconds 1669.5239543914795 \n",
      "\n",
      "Green 0.997468\n",
      "Distance (metres) 0.0\n",
      "Time in milliseconds 1669.5239543914795 \n",
      "\n",
      "Green 0.99688345\n",
      "Distance (metres) 0.0\n",
      "Time in milliseconds 1669.5239543914795 \n",
      "\n"
     ]
    }
   ],
   "source": [
    "with detection_graph.as_default():\n",
    "    with tf.Session(graph=detection_graph) as sess:\n",
    "        # Definite input and output Tensors for detection_graph\n",
    "        image_tensor = detection_graph.get_tensor_by_name('image_tensor:0')\n",
    "        \n",
    "        # Each box represents a part of the image where a particular object was detected.\n",
    "        detection_boxes = detection_graph.get_tensor_by_name('detection_boxes:0')\n",
    "        \n",
    "        # Each score represent how level of confidence for each of the objects.\n",
    "        # Score is shown on the result image, together with the class label.\n",
    "        detection_scores = detection_graph.get_tensor_by_name('detection_scores:0')\n",
    "        detection_classes = detection_graph.get_tensor_by_name('detection_classes:0')\n",
    "        num_detections = detection_graph.get_tensor_by_name('num_detections:0')\n",
    "        matplotlib.use('TkAgg')\n",
    "        for image_path in TEST_IMAGE_PATHS:\n",
    "            image = Image.open(image_path)\n",
    "            print(image_path)\n",
    "            # the array based representation of the image will be used later in order to prepare the\n",
    "            # result image with boxes and labels on it.\n",
    "            image_np = load_image_into_numpy_array(image)\n",
    "            # Expand dimensions since the model expects images to have shape: [1, None, None, 3]\n",
    "            image_np_expanded = np.expand_dims(image_np, axis=0)\n",
    "\n",
    "            time0 = time.time()\n",
    "\n",
    "            # Actual detection.\n",
    "            (boxes, scores, classes, num) = sess.run(\n",
    "              [detection_boxes, detection_scores, detection_classes, num_detections],\n",
    "              feed_dict={image_tensor: image_np_expanded})\n",
    "\n",
    "            time1 = time.time()\n",
    "\n",
    "            boxes = np.squeeze(boxes)\n",
    "            scores = np.squeeze(scores)\n",
    "            classes = np.squeeze(classes).astype(np.int32)\n",
    "            \n",
    "            # Visualization of the results of a detection.\n",
    "            vis_util.visualize_boxes_and_labels_on_image_array(\n",
    "                image_np, boxes, classes, scores,\n",
    "                category_index,\n",
    "                use_normalized_coordinates=True,\n",
    "                line_thickness=6)\n",
    "            \n",
    "            plt.figure(figsize=IMAGE_SIZE)\n",
    "            plt.imshow(image_np)\n",
    "            plt.show()\n",
    "\n",
    "            min_score_thresh = .50\n",
    "            for i in range(boxes.shape[0]):\n",
    "                if scores is None or scores[i] > min_score_thresh:\n",
    "\n",
    "                    class_name = category_index[classes[i]]['name']\n",
    "                    print('{}'.format(class_name), scores[i])\n",
    "                    \n",
    "                    fx =  0.97428\n",
    "                    fy =  1.73205\n",
    "                    perceived_width_x = (boxes[i][3] - boxes[i][1]) * 800\n",
    "                    perceived_width_y = (boxes[i][2] - boxes[i][0]) * 600\n",
    "\n",
    "                    # ymin, xmin, ymax, xmax = box\n",
    "                    # depth_prime = (width_real * focal) / perceived_width\n",
    "                    perceived_depth_x = ((.1 * fx) / perceived_width_x)\n",
    "                    perceived_depth_y = ((.3 * fy) / perceived_width_y )\n",
    "\n",
    "                    estimated_distance = round((perceived_depth_x + perceived_depth_y) / 2)\n",
    "                    print(\"Distance (metres)\", estimated_distance)\n",
    "                    print(\"Time in milliseconds\", (time1 - time0) * 1000, \"\\n\")"
   ]
  },
  {
   "cell_type": "code",
   "execution_count": null,
   "metadata": {},
   "outputs": [],
   "source": []
  }
 ],
 "metadata": {
  "kernelspec": {
   "display_name": "Python 3",
   "language": "python",
   "name": "python3"
  },
  "language_info": {
   "codemirror_mode": {
    "name": "ipython",
    "version": 3
   },
   "file_extension": ".py",
   "mimetype": "text/x-python",
   "name": "python",
   "nbconvert_exporter": "python",
   "pygments_lexer": "ipython3",
   "version": "3.6.7"
  }
 },
 "nbformat": 4,
 "nbformat_minor": 2
}
